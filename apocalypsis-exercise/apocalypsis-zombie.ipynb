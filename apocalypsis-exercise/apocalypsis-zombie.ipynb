{
 "cells": [
  {
   "cell_type": "markdown",
   "metadata": {},
   "source": [
    "# Apocalipsis zombie\n",
    "\n",
    "![](./images/thewalkingdead.jpeg)\n",
    "\n",
    "Cargas un arsenal de armas y una mochila con cargadores de munición de tamaño variable para algunos tipos de armas. ¿Cuántos zombies puedes matar antes de tener que echar a correr por tu vida? Deberás imprimir el resultado de cada caso que corresponde al número de balas que tienes de las armas que cargas.  \n",
    "\n",
    "ALGORITMO: Por cada arma diferente que cargas, tienes que comprobar si portas cargadores para ella. Si esto es afirmativo deberás sumar el total de balas que podrás disparar. "
   ]
  },
  {
   "cell_type": "markdown",
   "metadata": {},
   "source": [
    "## Caso 0: Ejemplo simple"
   ]
  },
  {
   "cell_type": "code",
   "execution_count": 1,
   "metadata": {},
   "outputs": [
    {
     "name": "stdout",
     "output_type": "stream",
     "text": [
      "20\n",
      "10\n",
      "['pistola', 'escopeta']\n",
      "30\n"
     ]
    }
   ],
   "source": [
    "armas = ['pistola','escopeta']\n",
    "\n",
    "cargadores = {\n",
    "    'pistola': [10, 10], \n",
    "    'escopeta': [2, 2, 2, 2, 2]\n",
    "}\n",
    "\n",
    "# your code\n",
    "cartuchos = []\n",
    "balas_pistola = sum(cargadores['pistola'])    \n",
    "balas_escopeta = sum(cargadores['escopeta'])\n",
    "zombies_muertos = 0\n",
    "\n",
    "for cartucho in cargadores.keys():\n",
    "    cartuchos.append(cartucho)\n",
    "\n",
    "print(balas_pistola)\n",
    "print(balas_escopeta)\n",
    "print(cartuchos)\n",
    "    \n",
    "for arma in armas:\n",
    "    if(arma == cartuchos[0]):\n",
    "        zombies_muertos += balas_pistola\n",
    "    elif(arma == cartuchos[1]):\n",
    "        zombies_muertos += balas_escopeta\n",
    "\n",
    "print(zombies_muertos)\n",
    "\n",
    "\n",
    "\n"
   ]
  },
  {
   "cell_type": "markdown",
   "metadata": {},
   "source": [
    "**Output esperado** -> 30"
   ]
  },
  {
   "cell_type": "markdown",
   "metadata": {},
   "source": [
    "## Caso 1: Mismas armas que municiones"
   ]
  },
  {
   "cell_type": "code",
   "execution_count": 2,
   "metadata": {},
   "outputs": [
    {
     "name": "stdout",
     "output_type": "stream",
     "text": [
      "71\n",
      "73\n",
      "7\n",
      "7\n",
      "['pistola', 'ametralladora', 'escopeta', 'fusil de francotirador']\n",
      "158\n"
     ]
    }
   ],
   "source": [
    "armas = ['pistola', 'ametralladora', 'escopeta', 'fusil de francotirador']\n",
    "\n",
    "cargadores = {\n",
    "    'pistola': [12, 13, 4, 5, 20, 17], \n",
    "    'ametralladora': [33, 40], \n",
    "    'escopeta': [2, 2, 2, 1], \n",
    "    'fusil de francotirador': [1, 2, 4]\n",
    "}\n",
    "\n",
    "# your code\n",
    "cartuchos = []\n",
    "balas_pistola = sum(cargadores['pistola'])\n",
    "balas_ametralladora = sum(cargadores['ametralladora'])\n",
    "balas_escopeta = sum(cargadores['escopeta'])\n",
    "balas_fusil_de_francotirador = sum(cargadores['fusil de francotirador'])\n",
    "zombies_muertos = 0\n",
    "\n",
    "for cartucho in cargadores.keys():\n",
    "    cartuchos.append(cartucho)\n",
    "\n",
    "print(balas_pistola)\n",
    "print(balas_ametralladora)\n",
    "print(balas_escopeta)\n",
    "print(balas_fusil_de_francotirador)\n",
    "print(cartuchos)\n",
    "    \n",
    "for arma in armas:\n",
    "    if(arma == cartuchos[0]):\n",
    "        zombies_muertos += balas_pistola\n",
    "    elif(arma == cartuchos[1]):\n",
    "        zombies_muertos += balas_ametralladora\n",
    "    elif(arma == cartuchos[2]):\n",
    "        zombies_muertos += balas_escopeta\n",
    "    elif(arma == cartuchos[3]):\n",
    "        zombies_muertos += balas_fusil_de_francotirador\n",
    "\n",
    "\n",
    "\n",
    "print(zombies_muertos)"
   ]
  },
  {
   "cell_type": "markdown",
   "metadata": {},
   "source": [
    "## Caso 2: Más tipos de munición que armas"
   ]
  },
  {
   "cell_type": "code",
   "execution_count": 3,
   "metadata": {},
   "outputs": [
    {
     "name": "stdout",
     "output_type": "stream",
     "text": [
      "71\n",
      "73\n",
      "7\n",
      "7\n",
      "2\n",
      "['pistola', 'ametralladora', 'escopeta', 'fusil de francotirador', 'bazoka']\n",
      "158\n"
     ]
    }
   ],
   "source": [
    "armas = ['pistola', 'ametralladora', 'escopeta', 'fusil de francotirador']\n",
    "\n",
    "cargadores = {\n",
    "    'pistola': [12, 13, 4, 5, 20, 17], \n",
    "    'ametralladora': [33, 40], \n",
    "    'escopeta': [2, 2, 2, 1], \n",
    "    'fusil de francotirador': [1, 2, 4], \n",
    "    'bazoka': [1, 1]\n",
    "}\n",
    "\n",
    "# your code\n",
    "cartuchos = []\n",
    "balas_pistola = sum(cargadores['pistola'])\n",
    "balas_ametralladora = sum(cargadores['ametralladora'])\n",
    "balas_escopeta = sum(cargadores['escopeta'])\n",
    "balas_fusil_de_francotirador = sum(cargadores['fusil de francotirador'])\n",
    "balas_de_bazoka = sum(cargadores['bazoka'])\n",
    "zombies_muertos = 0\n",
    "\n",
    "for cartucho in cargadores.keys():\n",
    "    cartuchos.append(cartucho)\n",
    "\n",
    "print(balas_pistola)\n",
    "print(balas_ametralladora)\n",
    "print(balas_escopeta)\n",
    "print(balas_fusil_de_francotirador)\n",
    "print(balas_de_bazoka)\n",
    "print(cartuchos)\n",
    "    \n",
    "for arma in armas:\n",
    "    if(arma == cartuchos[0]):\n",
    "        zombies_muertos += balas_pistola\n",
    "    elif(arma == cartuchos[1]):\n",
    "        zombies_muertos += balas_ametralladora\n",
    "    elif(arma == cartuchos[2]):\n",
    "        zombies_muertos += balas_escopeta\n",
    "    elif(arma == cartuchos[3]):\n",
    "        zombies_muertos += balas_fusil_de_francotirador\n",
    "    elif(arma == cartuchos[4]):\n",
    "        zombies_muertos += balas_de_bazoka\n",
    "\n",
    "\n",
    "print(zombies_muertos)"
   ]
  },
  {
   "cell_type": "markdown",
   "metadata": {},
   "source": [
    "## Caso 3: Más armas que tipos de munición"
   ]
  },
  {
   "cell_type": "code",
   "execution_count": 4,
   "metadata": {},
   "outputs": [
    {
     "name": "stdout",
     "output_type": "stream",
     "text": [
      "71\n",
      "73\n",
      "7\n",
      "['pistola', 'ametralladora', 'escopeta']\n",
      "151\n"
     ]
    }
   ],
   "source": [
    "armas = ['pistola', 'ametralladora', 'escopeta', 'fusil de francotirador']\n",
    "\n",
    "cargadores = {\n",
    "    'pistola': [12, 13, 4, 5, 20, 17], \n",
    "    'ametralladora': [33, 40], \n",
    "    'escopeta': [2, 2, 2, 1] \n",
    "}\n",
    "\n",
    "# your code\n",
    "cartuchos = []\n",
    "balas_pistola = sum(cargadores['pistola'])\n",
    "balas_ametralladora = sum(cargadores['ametralladora'])\n",
    "balas_escopeta = sum(cargadores['escopeta'])\n",
    "zombies_muertos = 0\n",
    "\n",
    "for cartucho in cargadores.keys():\n",
    "    cartuchos.append(cartucho)\n",
    "\n",
    "print(balas_pistola)\n",
    "print(balas_ametralladora)\n",
    "print(balas_escopeta)\n",
    "print(cartuchos)\n",
    "    \n",
    "for arma in armas:\n",
    "    if(arma == cartuchos[0]):\n",
    "        zombies_muertos += balas_pistola\n",
    "    elif(arma == cartuchos[1]):\n",
    "        zombies_muertos += balas_ametralladora\n",
    "    elif(arma == cartuchos[2]):\n",
    "        zombies_muertos += balas_escopeta\n",
    "\n",
    "\n",
    "print(zombies_muertos)"
   ]
  },
  {
   "cell_type": "code",
   "execution_count": null,
   "metadata": {},
   "outputs": [],
   "source": []
  }
 ],
 "metadata": {
  "kernelspec": {
   "display_name": "Python 3",
   "language": "python",
   "name": "python3"
  },
  "language_info": {
   "codemirror_mode": {
    "name": "ipython",
    "version": 3
   },
   "file_extension": ".py",
   "mimetype": "text/x-python",
   "name": "python",
   "nbconvert_exporter": "python",
   "pygments_lexer": "ipython3",
   "version": "3.7.4"
  }
 },
 "nbformat": 4,
 "nbformat_minor": 2
}
