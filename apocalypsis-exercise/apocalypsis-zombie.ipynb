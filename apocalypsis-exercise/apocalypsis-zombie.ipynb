{
 "cells": [
  {
   "cell_type": "markdown",
   "metadata": {},
   "source": [
    "# Apocalipsis zombie\n",
    "\n",
    "![](./images/thewalkingdead.jpeg)\n",
    "\n",
    "Cargas un arsenal de armas y una mochila con cargadores de munición de tamaño variable para algunos tipos de armas. ¿Cuántos zombies puedes matar antes de tener que echar a correr por tu vida? Deberás imprimir el resultado de cada caso que corresponde al número de balas que tienes de las armas que cargas.  \n",
    "\n",
    "ALGORITMO: Por cada arma diferente que cargas, tienes que comprobar si portas cargadores para ella. Si esto es afirmativo deberás sumar el total de balas que podrás disparar. "
   ]
  },
  {
   "cell_type": "markdown",
   "metadata": {},
   "source": [
    "## Caso 0: Ejemplo simple"
   ]
  },
  {
   "cell_type": "code",
   "execution_count": 1,
   "metadata": {},
   "outputs": [],
   "source": [
    "armas = ['pistola','escopeta']\n",
    "\n",
    "cargadores = {\n",
    "    'pistola': [10, 10], \n",
    "    'escopeta': [2, 2, 2, 2, 2]\n",
    "}\n",
    "\n",
    #Una lista vacía donde iré poniendo todas las municiones. 
balas_arma_0 = []

#Primero veamos si tenemos municiones de cada arma, y añadamos las municiones en mi lista vacía. 
for arma_0 in armas:
    if cargadores[arma_0]:
        print(f"Sí tenemos balas de {arma_0}.")
        balas_arma_0 = balas_arma_0 + cargadores[arma_0]
print("¡Qué suerte! Tenemos municiones para cada tipo de arma.")

#Tiempo de sumarlas. 

suma_0 = 0
for z in range(len(balas_arma_0)):
    suma_0 = suma_0 + balas_arma_0[z]

print(f"\nContando las balas...\nContando las balas...\n\n¡Listo! Tenemos {suma_0} balas en total. ¿Será suficiente?" )



   ]
  },
  {
   "cell_type": "markdown",
   "metadata": {},
   "source": [
    "**Output esperado** -> 30"
   ]
  },
  {
   "cell_type": "markdown",
   "metadata": {},
   "source": [
    "## Caso 1: Mismas armas que municiones"
   ]
  },
  {
   "cell_type": "code",
   "execution_count": 2,
   "metadata": {},
   "outputs": [],
   "source": [
    "armas = ['pistola', 'ametralladora', 'escopeta', 'fusil de francotirador']\n",
    "\n",
    "cargadores = {\n",
    "    'pistola': [12, 13, 4, 5, 20, 17], \n",
    "    'ametralladora': [33, 40], \n",
    "    'escopeta': [2, 2, 2, 1], \n",
    "    'fusil de francotirador': [1, 2, 4]\n",
    "}\n",
    "\n",
    balas_arma = []
#Primero veamos si tenemos municiones de cada arma. 
for arma in armas:
    if cargadores[arma]:
        print(f"Sí tenemos balas de {arma}.")
        balas_arma = balas_arma + cargadores[arma]
print("¡Qué suerte! Tenemos municiones para cada tipo de arma.")

suma = 0

for x in range(len(balas_arma)):
    suma = suma + balas_arma[x]

print(f"\nContando las balas...\nContando las balas...\n\n¡Listo! Tenemos {suma} balas en total. ¿Será suficiente?" )



   ]
  },
  {
   "cell_type": "markdown",
   "metadata": {},
   "source": [
    "## Caso 2: Más tipos de munición que armas"
   ]
  },
  {
   "cell_type": "code",
   "execution_count": 3,
   "metadata": {},
   "outputs": [],
   "source": [
    "armas = ['pistola', 'ametralladora', 'escopeta', 'fusil de francotirador']\n",
    "\n",
    "cargadores = {\n",
    "    'pistola': [12, 13, 4, 5, 20, 17], \n",
    "    'ametralladora': [33, 40], \n",
    "    'escopeta': [2, 2, 2, 1], \n",
    "    'fusil de francotirador': [1, 2, 4], \n",
    "    'bazoka': [1, 1]\n",
    "}\n",
    "\n",
    balas_arma_02 = []
#Primero veamos si tenemos municiones de cada arma. 

for arma in armas:
    if cargadores[arma]:
        print(f"Sí tenemos balas de {arma}.")
        balas_arma_02 = balas_arma_02 + cargadores[arma]
print("¡Qué suerte! Tenemos municiones para cada tipo de arma.")

for cargador in cargadores:
    if cargador in armas:
        pass
    else:
        print(f"...\nQué raro, tenemos balas de {cargador}, pero no tenemos {cargador}s.")

suma_02 = 0

for y in range(len(balas_arma_02)):
    suma_02 = suma_02 + balas_arma_02[y]

print(f"\nContando las balas...\nContando las balas...\n\n¡Listo! Tenemos {suma_02} balas en total. ¿Será suficiente?" )



   ]
  },
  {
   "cell_type": "markdown",
   "metadata": {},
   "source": [
    "## Caso 3: Más armas que tipos de munición"
   ]
  },
  {
   "cell_type": "code",
   "execution_count": 4,
   "metadata": {},
   "outputs": [],
   "source": [
    "armas = ['pistola', 'ametralladora', 'escopeta', 'fusil de francotirador']\n",
    "\n",
    "cargadores = {\n",
    "    'pistola': [12, 13, 4, 5, 20, 17], \n",
    "    'ametralladora': [33, 40], \n",
    "    'escopeta': [2, 2, 2, 1] \n",
    "}\n",
    "\n",
    #Lo mismo que en códigos pasados. 

balas_arma_03 = []
#Primero veamos si tenemos municiones de cada arma. 
for arma in armas:
    if arma in cargadores.keys():
        print(f"Sí tenemos balas de {arma}.")
        balas_arma_03 = balas_arma_03 + cargadores[arma]
    else: 
        print(f"Chin, no tenemos balas para el {arma}.")

suma_03 = 0

for x in range(len(balas_arma_03)):
    suma_03 = suma_03 + balas_arma_03[x]

print(f"\nContando las balas...\nContando las balas...\n\n¡Listo! Tenemos {suma_03} balas en total. ¿Será suficiente?" )


   ]
  }
 ],
 "metadata": {
  "kernelspec": {
   "display_name": "Python 3",
   "language": "python",
   "name": "python3"
  },
  "language_info": {
   "codemirror_mode": {
    "name": "ipython",
    "version": 3
   },
   "file_extension": ".py",
   "mimetype": "text/x-python",
   "name": "python",
   "nbconvert_exporter": "python",
   "pygments_lexer": "ipython3",
   "version": "3.6.8"
  }
 },
 "nbformat": 4,
 "nbformat_minor": 2
}
