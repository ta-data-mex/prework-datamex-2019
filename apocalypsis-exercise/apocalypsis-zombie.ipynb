{
 "cells": [
  {
   "cell_type": "markdown",
   "metadata": {},
   "source": [
    "# Apocalipsis zombie\n",
    "\n",
    "![](./images/thewalkingdead.jpeg)\n",
    "\n",
    "Cargas un arsenal de armas y una mochila con cargadores de munición de tamaño variable para algunos tipos de armas. ¿Cuántos zombies puedes matar antes de tener que echar a correr por tu vida? Deberás imprimir el resultado de cada caso que corresponde al número de balas que tienes de las armas que cargas.  \n",
    "\n",
    "ALGORITMO: Por cada arma diferente que cargas, tienes que comprobar si portas cargadores para ella. Si esto es afirmativo deberás sumar el total de balas que podrás disparar. "
   ]
  },
  {
   "cell_type": "markdown",
   "metadata": {},
   "source": [
    "## Caso 0: Ejemplo simple"
   ]
  },
  {
   "cell_type": "code",
   "execution_count": 1,
   "metadata": {},
   "outputs": [
    {
     "name": "stdout",
     "output_type": "stream",
     "text": [
      "Total de zombies muertos: 30\n"
     ]
    }
   ],
   "source": [
    "armas = ['pistola','escopeta']\n",
    "\n",
    "cargadores = {\n",
    "    'pistola': [10, 10], \n",
    "    'escopeta': [2, 2, 2, 2, 2]\n",
    "}\n",
    "\n",
    "# your code\n",
    "# hice un codigo que pudiera resolver todos los casos sin cambiar nada :) \n",
    "Zombie_M = []\n",
    "i=0\n",
    "for x in range (len(armas)):\n",
    "    if armas[i] in cargadores:\n",
    "        valor= cargadores.get(armas[i])\n",
    "        i+=1\n",
    "        valor1 = sum(valor)\n",
    "        Zombie_M.append(valor1)\n",
    "\n",
    "    else:\n",
    "        print(\"no hay cargadores de:\",armas[i])\n",
    "        i+=1\n",
    "\n",
    "print(\"Total de zombies muertos:\",sum(Zombie_M))\n",
    "\n"
   ]
  },
  {
   "cell_type": "markdown",
   "metadata": {},
   "source": [
    "**Output esperado** -> 30"
   ]
  },
  {
   "cell_type": "markdown",
   "metadata": {},
   "source": [
    "## Caso 1: Mismas armas que municiones"
   ]
  },
  {
   "cell_type": "code",
   "execution_count": 5,
   "metadata": {},
   "outputs": [
    {
     "name": "stdout",
     "output_type": "stream",
     "text": [
      "Total de zombies muertos: 158\n"
     ]
    }
   ],
   "source": [
    "armas = ['pistola', 'ametralladora', 'escopeta', 'fusil de francotirador']\n",
    "\n",
    "cargadores = {\n",
    "    'pistola': [12, 13, 4, 5, 20, 17], \n",
    "    'ametralladora': [33, 40], \n",
    "    'escopeta': [2, 2, 2, 1], \n",
    "    'fusil de francotirador': [1, 2, 4]\n",
    "}\n",
    "\n",
    "# your code\n",
    "Zombie_M = []\n",
    "i=0\n",
    "for x in range (len(armas)):\n",
    "    if armas[i] in cargadores:\n",
    "        valor= cargadores.get(armas[i])\n",
    "        i+=1\n",
    "        valor1 = sum(valor)\n",
    "        Zombie_M.append(valor1)\n",
    "\n",
    "    else:\n",
    "        print(\"no hay cargadores de:\",armas[i])\n",
    "        i+=1\n",
    "\n",
    "print(\"Total de zombies muertos:\",sum(Zombie_M))"
   ]
  },
  {
   "cell_type": "markdown",
   "metadata": {},
   "source": [
    "## Caso 2: Más tipos de munición que armas"
   ]
  },
  {
   "cell_type": "code",
   "execution_count": 2,
   "metadata": {},
   "outputs": [
    {
     "name": "stdout",
     "output_type": "stream",
     "text": [
      "Total de zombies muertos: 158\n"
     ]
    }
   ],
   "source": [
    "armas = ['pistola', 'ametralladora', 'escopeta', 'fusil de francotirador']\n",
    "\n",
    "cargadores = {\n",
    "    'pistola': [12, 13, 4, 5, 20, 17], \n",
    "    'ametralladora': [33, 40], \n",
    "    'escopeta': [2, 2, 2, 1], \n",
    "    'fusil de francotirador': [1, 2, 4], \n",
    "    'bazoka': [1, 1]\n",
    "}\n",
    "\n",
    "# your code\n",
    "\n",
    "Zombie_M = []\n",
    "i=0\n",
    "for x in range (len(armas)):\n",
    "    if armas[i] in cargadores:\n",
    "        valor= cargadores.get(armas[i])\n",
    "        i+=1\n",
    "        valor1 = sum(valor)\n",
    "        Zombie_M.append(valor1)\n",
    "\n",
    "    else:\n",
    "        print(\"no hay cargadores de:\",armas[i])\n",
    "        i+=1\n",
    "\n",
    "print(\"Total de zombies muertos:\",sum(Zombie_M))\n"
   ]
  },
  {
   "cell_type": "markdown",
   "metadata": {},
   "source": [
    "## Caso 3: Más armas que tipos de munición"
   ]
  },
  {
   "cell_type": "code",
   "execution_count": 4,
   "metadata": {},
   "outputs": [
    {
     "name": "stdout",
     "output_type": "stream",
     "text": [
      "No hay cargadores de: fusil de francotirador\n",
      "Total de zombies muertos: 151\n"
     ]
    }
   ],
   "source": [
    "armas = ['pistola', 'ametralladora', 'escopeta', 'fusil de francotirador']\n",
    "\n",
    "cargadores = {\n",
    "    'pistola': [12, 13, 4, 5, 20, 17], \n",
    "    'ametralladora': [33, 40], \n",
    "    'escopeta': [2, 2, 2, 1] \n",
    "}\n",
    "\n",
    "# your code\n",
    "Zombie_M = []\n",
    "i=0\n",
    "for x in range (len(armas)):\n",
    "    if armas[i] in cargadores:\n",
    "        valor= cargadores.get(armas[i])\n",
    "        i+=1\n",
    "        valor1 = sum(valor)\n",
    "        Zombie_M.append(valor1)\n",
    "\n",
    "    else:\n",
    "        print(\"No hay cargadores de:\",armas[i])\n",
    "        i+=1\n",
    "\n",
    "print(\"Total de zombies muertos:\",sum(Zombie_M))\n"
   ]
  }
 ],
 "metadata": {
  "kernelspec": {
   "display_name": "Python 3",
   "language": "python",
   "name": "python3"
  },
  "language_info": {
   "codemirror_mode": {
    "name": "ipython",
    "version": 3
   },
   "file_extension": ".py",
   "mimetype": "text/x-python",
   "name": "python",
   "nbconvert_exporter": "python",
   "pygments_lexer": "ipython3",
   "version": "3.7.3"
  }
 },
 "nbformat": 4,
 "nbformat_minor": 2
}
