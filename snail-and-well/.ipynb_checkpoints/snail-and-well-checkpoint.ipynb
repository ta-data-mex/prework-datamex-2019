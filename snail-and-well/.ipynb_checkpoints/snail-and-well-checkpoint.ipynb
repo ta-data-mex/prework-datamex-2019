{
 "cells": [
  {
   "cell_type": "markdown",
   "metadata": {},
   "source": [
    "# Snail and well\n",
    "\n",
    "A snail falls at the bottom of a 125 cm well. Each day the snail rises 30 cm. But at night, while sleeping, slides 20 cm because the walls are wet. How many days does it take to escape from the well?\n",
    "\n",
    "TIP: http://puzzles.nigelcoldwell.co.uk/sixtytwo.htm"
   ]
  },
  {
   "cell_type": "markdown",
   "metadata": {},
   "source": [
    "## Solución"
   ]
  },
  {
   "cell_type": "code",
   "execution_count": 12,
   "metadata": {},
   "outputs": [
    {
     "name": "stdout",
     "output_type": "stream",
     "text": [
      "El caracol no alcanzo a salir en el dia...\n",
      "dias transcurridos: 1\n",
      "El caracol no alcanzo a salir en el dia...\n",
      "dias transcurridos: 2\n",
      "El caracol no alcanzo a salir en el dia...\n",
      "dias transcurridos: 3\n",
      "El caracol no alcanzo a salir en el dia...\n",
      "dias transcurridos: 4\n",
      "El caracol no alcanzo a salir en el dia...\n",
      "dias transcurridos: 5\n",
      "El caracol no alcanzo a salir en el dia...\n",
      "dias transcurridos: 6\n",
      "El caracol no alcanzo a salir en el dia...\n",
      "dias transcurridos: 7\n",
      "El caracol no alcanzo a salir en el dia...\n",
      "dias transcurridos: 8\n",
      "El caracol no alcanzo a salir en el dia...\n",
      "dias transcurridos: 9\n",
      "El caracol no alcanzo a salir en el dia...\n",
      "dias transcurridos: 10\n",
      "El caracol no alcanzo a salir en el dia...\n",
      "dias transcurridos: 11\n",
      "El caracol logro salir el dia: 11\n"
     ]
    }
   ],
   "source": [
    "# Assign problem data to variables with representative names\n",
    "# well height, daily advance, night retreat, accumulated distance\n",
    "\n",
    "altura_pozo = 125\n",
    "distancia_subida = 30\n",
    "distancia_bajada = -20\n",
    "distancia_recorrida = 0\n",
    "dias_transcurridos = 0\n",
    "\n",
    "# Assign 0 to the variable that represents the solution\n",
    "distancia_recorrida += distancia_subida\n",
    "print('El caracol no alcanzo a salir en el dia...')\n",
    "dias_transcurridos += 1\n",
    "print('dias transcurridos:',dias_transcurridos)\n",
    "\n",
    "while distancia_recorrida < altura_pozo:\n",
    "    distancia_recorrida += distancia_subida\n",
    "    print('El caracol no alcanzo a salir en el dia...')\n",
    "    distancia_recorrida += distancia_bajada\n",
    "    dias_transcurridos += 1\n",
    "    print('dias transcurridos:',dias_transcurridos)\n",
    "\n",
    "print('El caracol logro salir el dia:',dias_transcurridos)\n",
    "    \n",
    "# Write the code that solves the problem\n",
    "\n",
    "\n",
    "# Print the result with print('Days =', days)\n"
   ]
  },
  {
   "cell_type": "markdown",
   "metadata": {},
   "source": [
    "**Expected output**: \n",
    "```\n",
    "Days = 11\n",
    "```"
   ]
  },
  {
   "cell_type": "markdown",
   "metadata": {},
   "source": [
    "## Goals\n",
    "\n",
    "1. Treatment of variables\n",
    "2. Use of loop **while**\n",
    "3. Use of conditional **if-else**\n",
    "4. Print in console"
   ]
  },
  {
   "cell_type": "markdown",
   "metadata": {},
   "source": [
    "## Bonus\n",
    "The distance traveled by the snail is now defined by a list.\n",
    "```\n",
    "advance_cm = [30, 21, 33, 77, 44, 45, 23, 45, 12, 34, 55]\n",
    "```\n",
    "How long does it take to raise the well?\n",
    "\n",
    "What is its maximum displacement in one day? And its minimum?\n",
    "\n",
    "What is its average speed during the day?\n",
    "\n",
    "What is the standard deviation of its displacement during the day?"
   ]
  },
  {
   "cell_type": "code",
   "execution_count": 13,
   "metadata": {},
   "outputs": [],
   "source": [
    "# Assign problem data to variables with representative names\n",
    "# well height, daily advance, night retreat, accumulated distance\n",
    "advance_cm = [30, 21, 33, 77, 44, 45, 23, 45, 12, 34, 55]\n",
    "\n",
    "# Assign 0 to the variable that represents the solution\n",
    "\n",
    "\n",
    "# Write the code that solves the problem\n",
    "\n",
    "\n",
    "\n",
    "# Print the result with print('Days =', days)\n"
   ]
  },
  {
   "cell_type": "markdown",
   "metadata": {},
   "source": [
    "**Expected output**: \n",
    "```\n",
    "Days = 6\n",
    "```"
   ]
  },
  {
   "cell_type": "code",
   "execution_count": 14,
   "metadata": {},
   "outputs": [
    {
     "name": "stdout",
     "output_type": "stream",
     "text": [
      "77\n",
      "12\n"
     ]
    }
   ],
   "source": [
    "# What is its maximum displacement in a day? And its minimum?\n",
    "print(max(advance_cm))\n",
    "print(min(advance_cm))\n"
   ]
  },
  {
   "cell_type": "markdown",
   "metadata": {},
   "source": [
    "**Expected output**: \n",
    "```\n",
    "77 12\n",
    "```"
   ]
  },
  {
   "cell_type": "code",
   "execution_count": 16,
   "metadata": {},
   "outputs": [
    {
     "name": "stdout",
     "output_type": "stream",
     "text": [
      "38.09090909090909\n"
     ]
    }
   ],
   "source": [
    "# What is its average progress?\n",
    "media = sum(advance_cm)/len(advance_cm)\n",
    "print(media)"
   ]
  },
  {
   "cell_type": "markdown",
   "metadata": {},
   "source": [
    "**Expected output**: \n",
    "```\n",
    "38.09090909090909\n",
    "```"
   ]
  },
  {
   "cell_type": "code",
   "execution_count": 20,
   "metadata": {},
   "outputs": [
    {
     "name": "stdout",
     "output_type": "stream",
     "text": [
      "17.159437082600803\n"
     ]
    }
   ],
   "source": [
    "# What is the standard deviation of your displacement during the day?\n",
    "difs = ((advance_cm[0]-media)**2)+((advance_cm[1]-media)**2)+((advance_cm[2]-media)**2)+((advance_cm[3]-media)**2)+((advance_cm[4]-media)**2)+((advance_cm[5]-media)**2)+((advance_cm[6]-media)**2)+((advance_cm[7]-media)**2)+((advance_cm[8]-media)**2)+((advance_cm[9]-media)**2+((advance_cm[10]-media)**2))\n",
    "var = difs/len(advance_cm)\n",
    "ds = var**.5\n",
    "print(ds)"
   ]
  },
  {
   "cell_type": "markdown",
   "metadata": {},
   "source": [
    "**Expected output**: \n",
    "```\n",
    "17.159437082600803\n",
    "```"
   ]
  }
 ],
 "metadata": {
  "kernelspec": {
   "display_name": "Python 3",
   "language": "python",
   "name": "python3"
  },
  "language_info": {
   "codemirror_mode": {
    "name": "ipython",
    "version": 3
   },
   "file_extension": ".py",
   "mimetype": "text/x-python",
   "name": "python",
   "nbconvert_exporter": "python",
   "pygments_lexer": "ipython3",
   "version": "3.7.4"
  }
 },
 "nbformat": 4,
 "nbformat_minor": 2
}
