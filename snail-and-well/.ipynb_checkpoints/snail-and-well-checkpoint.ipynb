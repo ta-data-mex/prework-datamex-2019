{
 "cells": [
  {
   "cell_type": "markdown",
   "metadata": {},
   "source": [
    "# Snail and well\n",
    "\n",
    "A snail falls at the bottom of a 125 cm well. Each day the snail rises 30 cm. But at night, while sleeping, slides 20 cm because the walls are wet. How many days does it take to escape from the well?\n",
    "\n",
    "TIP: http://puzzles.nigelcoldwell.co.uk/sixtytwo.htm"
   ]
  },
  {
   "cell_type": "markdown",
   "metadata": {},
   "source": [
    "## Solución"
   ]
  },
  {
   "cell_type": "code",
   "execution_count": 8,
   "metadata": {},
   "outputs": [
    {
     "name": "stdout",
     "output_type": "stream",
     "text": [
      "Days = 11\n"
     ]
    }
   ],
   "source": [
    "# Assign problem data to variables with representative names\n",
    "# well height, daily advance, night retreat, accumulated distance\n",
    "well_height = 125\n",
    "daily_advance = 30\n",
    "night_retreat = 20\n",
    "\n",
    "acc_distance = 0\n",
    "\n",
    "\n",
    "# Assign 0 to the variable that represents the solution\n",
    "days = 0\n",
    "\n",
    "# Write the code that solves the problem\n",
    "while acc_distance < well_height:\n",
    "    days += 1\n",
    "    acc_distance += daily_advance\n",
    "    if acc_distance < well_height:\n",
    "        acc_distance -= night_retreat\n",
    "\n",
    "# Print the result with print('Days =', days)\n",
    "print('Days =', days)"
   ]
  },
  {
   "cell_type": "markdown",
   "metadata": {},
   "source": [
    "**Expected output**: \n",
    "```\n",
    "Days = 11\n",
    "```"
   ]
  },
  {
   "cell_type": "markdown",
   "metadata": {},
   "source": [
    "## Goals\n",
    "\n",
    "1. Treatment of variables\n",
    "2. Use of loop **while**\n",
    "3. Use of conditional **if-else**\n",
    "4. Print in console"
   ]
  },
  {
   "cell_type": "markdown",
   "metadata": {},
   "source": [
    "## Bonus\n",
    "The distance traveled by the snail is now defined by a list.\n",
    "```\n",
    "advance_cm = [30, 21, 33, 77, 44, 45, 23, 45, 12, 34, 55]\n",
    "```\n",
    "How long does it take to raise the well?\n",
    "\n",
    "What is its maximum displacement in one day? And its minimum?\n",
    "\n",
    "What is its average speed during the day?\n",
    "\n",
    "What is the standard deviation of its displacement during the day?"
   ]
  },
  {
   "cell_type": "code",
   "execution_count": 12,
   "metadata": {},
   "outputs": [
    {
     "name": "stdout",
     "output_type": "stream",
     "text": [
      "Day:  1\n",
      "Today the snail advance is:  30\n",
      "So far, the snail has advanced:  30\n",
      "But it is not to reach the wight height: 125\n",
      "So that day retreats while sleeping, making the advance:  10\n",
      "Day:  2\n",
      "Today the snail advance is:  21\n",
      "So far, the snail has advanced:  31\n",
      "But it is not to reach the wight height: 125\n",
      "So that day retreats while sleeping, making the advance:  11\n",
      "Day:  3\n",
      "Today the snail advance is:  33\n",
      "So far, the snail has advanced:  44\n",
      "But it is not to reach the wight height: 125\n",
      "So that day retreats while sleeping, making the advance:  24\n",
      "Day:  4\n",
      "Today the snail advance is:  77\n",
      "So far, the snail has advanced:  101\n",
      "But it is not to reach the wight height: 125\n",
      "So that day retreats while sleeping, making the advance:  81\n",
      "Day:  5\n",
      "Today the snail advance is:  44\n",
      "So far, the snail has advanced:  125\n",
      "The snail has reached the top on day:  5\n",
      "Days = 5\n",
      "Expected output given by Iron Hack it is incorrect.\n"
     ]
    }
   ],
   "source": [
    "# Assign problem data to variables with representative names\n",
    "# well height, daily advance, night retreat, accumulated distance\n",
    "well_height = 125\n",
    "daily_advance = [30, 21, 33, 77, 44, 45, 23, 45, 12, 34, 55]\n",
    "night_retreat = 20\n",
    "\n",
    "acc_distance = 0\n",
    "\n",
    "# Assign 0 to the variable that represents the solution\n",
    "days = 0\n",
    "\n",
    "# Write the code that solves the problem\n",
    "while acc_distance < well_height:\n",
    "    days += 1\n",
    "    print('Day: ', days)\n",
    "    print('Today the snail advance is: ', daily_advance[days - 1])\n",
    "    acc_distance += daily_advance[days - 1]\n",
    "    print('So far, the snail has advanced: ', acc_distance)\n",
    "    if acc_distance < well_height:\n",
    "        print('But it is not to reach the wight height: 125')\n",
    "        acc_distance -= night_retreat\n",
    "        print('So that day retreats while sleeping, making the advance: ', acc_distance)\n",
    "    else:\n",
    "        print('The snail has reached the top on day: ', days)\n",
    "\n",
    "\n",
    "# Print the result with print('Days =', days)\n",
    "print('Days =', days)\n",
    "print('Expected output given by Iron Hack it is incorrect.')"
   ]
  },
  {
   "cell_type": "markdown",
   "metadata": {},
   "source": [
    "**Expected output**: \n",
    "```\n",
    "Days = 6\n",
    "```"
   ]
  },
  {
   "cell_type": "code",
   "execution_count": 14,
   "metadata": {},
   "outputs": [
    {
     "name": "stdout",
     "output_type": "stream",
     "text": [
      "77 12\n"
     ]
    }
   ],
   "source": [
    "# What is its maximum displacement in a day? And its minimum?\n",
    "print(max(daily_advance), min(daily_advance))"
   ]
  },
  {
   "cell_type": "markdown",
   "metadata": {},
   "source": [
    "**Expected output**: \n",
    "```\n",
    "77 12\n",
    "```"
   ]
  },
  {
   "cell_type": "code",
   "execution_count": 15,
   "metadata": {},
   "outputs": [
    {
     "name": "stdout",
     "output_type": "stream",
     "text": [
      "38.09090909090909\n"
     ]
    }
   ],
   "source": [
    "# What is its average progress?\n",
    "print(sum(daily_advance)/len(daily_advance))"
   ]
  },
  {
   "cell_type": "markdown",
   "metadata": {},
   "source": [
    "**Expected output**: \n",
    "```\n",
    "38.09090909090909\n",
    "```"
   ]
  },
  {
   "cell_type": "code",
   "execution_count": 16,
   "metadata": {},
   "outputs": [
    {
     "name": "stdout",
     "output_type": "stream",
     "text": [
      "17.159437082600803\n"
     ]
    }
   ],
   "source": [
    "# What is the standard deviation of your displacement during the day?\n",
    "def standDev(arr):\n",
    "    mean = sum(arr)/len(arr)\n",
    "    acc = 0\n",
    "    for value in arr:\n",
    "        acc += ((value - mean)**2)\n",
    "    acc /= (len(arr))\n",
    "    return acc**(1/2)\n",
    "\n",
    "print(standDev(daily_advance))"
   ]
  },
  {
   "cell_type": "markdown",
   "metadata": {},
   "source": [
    "**Expected output**: \n",
    "```\n",
    "17.159437082600803\n",
    "```"
   ]
  }
 ],
 "metadata": {
  "kernelspec": {
   "display_name": "Python 3",
   "language": "python",
   "name": "python3"
  },
  "language_info": {
   "codemirror_mode": {
    "name": "ipython",
    "version": 3
   },
   "file_extension": ".py",
   "mimetype": "text/x-python",
   "name": "python",
   "nbconvert_exporter": "python",
   "pygments_lexer": "ipython3",
   "version": "3.7.5"
  }
 },
 "nbformat": 4,
 "nbformat_minor": 2
}
