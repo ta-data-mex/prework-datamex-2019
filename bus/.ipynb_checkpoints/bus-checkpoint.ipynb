{
 "cells": [
  {
   "cell_type": "markdown",
   "metadata": {},
   "source": [
    "# Bus\n",
    "\n",
    "This bus has a passenger entry and exit control system to monitor the number of occupants it carries and thus detect when there is too high a capacity.\n",
    "\n",
    "At each stop the entry and exit of passengers is represented by a tuple consisting of two integer numbers.\n",
    "```\n",
    "bus_stop = (in, out)\n",
    "```\n",
    "The succession of stops is represented by a list of these tuples.\n",
    "```\n",
    "stops = [(in1, out1), (in2, out2), (in3, out3), (in4, out4)]\n",
    "```\n",
    "\n",
    "## Goals:\n",
    "* lists, tuples\n",
    "* while/for loops\n",
    "* minimum, maximum, length\n",
    "* average, standard deviation\n",
    "\n",
    "## Tasks\n",
    "1. Calculate the number of stops.\n",
    "2. Assign to a variable a list whose elements are the number of passengers at each stop (in-out),\n",
    "3. Find the maximum occupation of the bus.\n",
    "4. Calculate the average occupation. And the standard deviation.\n"
   ]
  },
  {
   "cell_type": "code",
   "execution_count": 26,
   "metadata": {},
   "outputs": [],
   "source": [
    "# variables\n",
    "\n",
    "stops = [(10, 0), (4, 1), (3, 5), (3, 4), (5, 1), (1, 5), (5, 8), (4, 6), (2, 3)]"
   ]
  },
  {
   "cell_type": "code",
   "execution_count": 27,
   "metadata": {},
   "outputs": [
    {
     "name": "stdout",
     "output_type": "stream",
     "text": [
      "9\n"
     ]
    }
   ],
   "source": [
    "# 1. Calculate the number of stops.\n",
    "paradas = len(stops)\n",
    "print(paradas)\n"
   ]
  },
  {
   "cell_type": "markdown",
   "metadata": {},
   "source": [
    "**Expected output**:\n",
    "```\n",
    "9\n",
    "```"
   ]
  },
  {
   "cell_type": "code",
   "execution_count": 44,
   "metadata": {},
   "outputs": [
    {
     "name": "stdout",
     "output_type": "stream",
     "text": [
      "[[10, 0], [4, 1], [3, 5], [3, 4], [5, 1], [1, 5], [5, 8], [4, 6], [2, 3]]\n",
      "[10, 13, 11, 10, 14, 10, 7, 5, 4]\n"
     ]
    }
   ],
   "source": [
    "# 2. Assign a variable a list whose elements are the number of passengers in each stop: \n",
    "# Each item depends on the previous item in the list + in - out.\n",
    "\n",
    "stops[0] = list(stops[0])\n",
    "stops[1] = list(stops[1])\n",
    "stops[2] = list(stops[2])\n",
    "stops[3] = list(stops[3])\n",
    "stops[4] = list(stops[4])\n",
    "stops[5] = list(stops[5])\n",
    "stops[6] = list(stops[6])\n",
    "stops[7] = list(stops[7])\n",
    "stops[8] = list(stops[8])\n",
    "\n",
    "print(stops)\n",
    "\n",
    "\n",
    "p0 = stops[0][0]-stops[0][1]\n",
    "p1 = p0 + stops[1][0]-stops[1][1]\n",
    "p2 = p1 + stops[2][0]-stops[2][1]\n",
    "p3 = p2 + stops[3][0]-stops[3][1]\n",
    "p4 = p3 + stops[4][0]-stops[4][1]\n",
    "p5 = p4 + stops[5][0]-stops[5][1]\n",
    "p6 = p5 + stops[6][0]-stops[6][1]\n",
    "p7 = p6 + stops[7][0]-stops[7][1]\n",
    "p8 = p7 + stops[8][0]-stops[8][1]\n",
    "\n",
    "numero_personas_parada = [p0,p1,p2,p3,p4,p5,p6,p7,p8]\n",
    "\n",
    "print(numero_personas_parada)\n",
    "\n",
    "\n",
    "#lo intenté hacer con un for pero no me mandaba errores por tener tuples y objetos int\n",
    "#deltas = []\n",
    "#i=list(range(9))\n",
    "#print(i)\n",
    "\n",
    "#for x in i:\n",
    "#    p[x] = stops[x][0]-stops[x][1]\n",
    "#    deltas.append(p)\n",
    "    \n",
    "#print(deltas)\n",
    "#TypeError: 'int' object does not support item assignment"
   ]
  },
  {
   "cell_type": "markdown",
   "metadata": {},
   "source": [
    "**Expected output**:\n",
    "```\n",
    "[10, 13, 11, 10, 14, 10, 7, 5, 4]\n",
    "```"
   ]
  },
  {
   "cell_type": "code",
   "execution_count": 45,
   "metadata": {},
   "outputs": [
    {
     "name": "stdout",
     "output_type": "stream",
     "text": [
      "14\n"
     ]
    }
   ],
   "source": [
    "# 3. Find the maximum occupation of the bus.\n",
    "print(max(numero_personas_parada))"
   ]
  },
  {
   "cell_type": "markdown",
   "metadata": {},
   "source": [
    "**Expected output**:\n",
    "```\n",
    "14\n",
    "```"
   ]
  },
  {
   "cell_type": "markdown",
   "metadata": {},
   "source": [
    "### 4. Calculate the average occupation. And the standard deviation.\n",
    "media = sum(numero_personas_parada)/len(numero_personas_parada)\n",
    "print(media)\n",
    "\n",
    "xx = (numero_personas_parada[0]-media)+(numero_personas_parada[1]-media)+(numero_personas_parada[2]-media)+(numero_personas_parada[0]-media)+(numero_personas_parada[0]-media)+(numero_personas_parada[0]-media)+(numero_personas_parada[0]-media)+(numero_personas_parada[0]-media)+(numero_personas_parada[0]-media)\n"
   ]
  },
  {
   "cell_type": "code",
   "execution_count": 56,
   "metadata": {},
   "outputs": [
    {
     "name": "stdout",
     "output_type": "stream",
     "text": [
      "9.333333333333334\n",
      "3.197221015541813\n"
     ]
    }
   ],
   "source": [
    "media = sum(numero_personas_parada)/len(numero_personas_parada)\n",
    "print(media)\n",
    "\n",
    "difs = ((numero_personas_parada[0]-media)**2)+((numero_personas_parada[1]-media)**2)+((numero_personas_parada[2]-media)**2)+((numero_personas_parada[3]-media)**2)+((numero_personas_parada[4]-media)**2)+((numero_personas_parada[5]-media)**2)+((numero_personas_parada[6]-media)**2)+((numero_personas_parada[7]-media)**2)+((numero_personas_parada[8]-media)**2)\n",
    "var = difs/(paradas)\n",
    "ds = var**.5\n",
    "print(ds)\n"
   ]
  },
  {
   "cell_type": "markdown",
   "metadata": {},
   "source": [
    "**Expected output**:\n",
    "```\n",
    "9.333333333333334\n",
    "3.197221015541813\n",
    "```"
   ]
  }
 ],
 "metadata": {
  "kernelspec": {
   "display_name": "Python 3",
   "language": "python",
   "name": "python3"
  },
  "language_info": {
   "codemirror_mode": {
    "name": "ipython",
    "version": 3
   },
   "file_extension": ".py",
   "mimetype": "text/x-python",
   "name": "python",
   "nbconvert_exporter": "python",
   "pygments_lexer": "ipython3",
   "version": "3.7.4"
  }
 },
 "nbformat": 4,
 "nbformat_minor": 2
}
