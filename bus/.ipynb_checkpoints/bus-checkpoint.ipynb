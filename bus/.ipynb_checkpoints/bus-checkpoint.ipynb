{
 "cells": [
  {
   "cell_type": "markdown",
   "metadata": {},
   "source": [
    "# Bus\n",
    "\n",
    "This bus has a passenger entry and exit control system to monitor the number of occupants it carries and thus detect when there is too high a capacity.\n",
    "\n",
    "At each stop the entry and exit of passengers is represented by a tuple consisting of two integer numbers.\n",
    "```\n",
    "bus_stop = (in, out)\n",
    "```\n",
    "The succession of stops is represented by a list of these tuples.\n",
    "```\n",
    "stops = [(in1, out1), (in2, out2), (in3, out3), (in4, out4)]\n",
    "```\n",
    "\n",
    "## Goals:\n",
    "* lists, tuples\n",
    "* while/for loops\n",
    "* minimum, maximum, length\n",
    "* average, standard deviation\n",
    "\n",
    "## Tasks\n",
    "1. Calculate the number of stops.\n",
    "2. Assign to a variable a list whose elements are the number of passengers at each stop (in-out),\n",
    "3. Find the maximum occupation of the bus.\n",
    "4. Calculate the average occupation. And the standard deviation.\n"
   ]
  },
  {
   "cell_type": "code",
   "execution_count": 7,
   "metadata": {},
   "outputs": [],
   "source": [
    "# variables\n",
    "\n",
    "stops = [(10, 0), (4, 1), (3, 5), (3, 4), (5, 1), (1, 5), (5, 8), (4, 6), (2, 3)]"
   ]
  },
  {
   "cell_type": "code",
   "execution_count": 8,
   "metadata": {},
   "outputs": [
    {
     "data": {
      "text/plain": [
       "9"
      ]
     },
     "execution_count": 8,
     "metadata": {},
     "output_type": "execute_result"
    }
   ],
   "source": [
    "# 1. Calculate the number of stops.\n",
    "len(stops)"
   ]
  },
  {
   "cell_type": "markdown",
   "metadata": {},
   "source": [
    "**Expected output**:\n",
    "```\n",
    "9\n",
    "```"
   ]
  },
  {
   "cell_type": "code",
   "execution_count": 10,
   "metadata": {},
   "outputs": [
    {
     "name": "stdout",
     "output_type": "stream",
     "text": [
      "[10, 13, 11, 10, 14, 10, 7, 5, 4]\n"
     ]
    }
   ],
   "source": [
    "# 2. Assign a variable a list whose elements are the number of passengers in each stop: \n",
    "# Each item depends on the previous item in the list + in - out.\n",
    "passengers = 0\n",
    "passengers_num_by_stop = []\n",
    "for stop in stops:\n",
    "    passengers += (stop[0] - stop[1])\n",
    "    passengers_num_by_stop.append(passengers)\n",
    "\n",
    "print(passengers_num_by_stop)\n"
   ]
  },
  {
   "cell_type": "markdown",
   "metadata": {},
   "source": [
    "**Expected output**:\n",
    "```\n",
    "[10, 13, 11, 10, 14, 10, 7, 5, 4]\n",
    "```"
   ]
  },
  {
   "cell_type": "code",
   "execution_count": 11,
   "metadata": {},
   "outputs": [
    {
     "name": "stdout",
     "output_type": "stream",
     "text": [
      "14\n"
     ]
    }
   ],
   "source": [
    "# 3. Find the maximum occupation of the bus.\n",
    "print(max(passengers_num_by_stop))"
   ]
  },
  {
   "cell_type": "markdown",
   "metadata": {},
   "source": [
    "**Expected output**:\n",
    "```\n",
    "14\n",
    "```"
   ]
  },
  {
   "cell_type": "code",
   "execution_count": 13,
   "metadata": {},
   "outputs": [
    {
     "name": "stdout",
     "output_type": "stream",
     "text": [
      "9.333333333333334\n",
      "3.197221015541813\n"
     ]
    }
   ],
   "source": [
    "# 4. Calculate the average occupation. And the standard deviation.\n",
    "avg = sum(passengers_num_by_stop)/len(passengers_num_by_stop)\n",
    "\n",
    "def standDev(arr):\n",
    "    mean = sum(arr)/len(arr)\n",
    "    acc = 0\n",
    "    for value in arr:\n",
    "        acc += ((value - mean)**2)\n",
    "    acc /= (len(arr))\n",
    "    return acc**(1/2)\n",
    "\n",
    "stand_dev = standDev(passengers_num_by_stop)\n",
    "\n",
    "print(avg)\n",
    "print(stand_dev)"
   ]
  },
  {
   "cell_type": "markdown",
   "metadata": {},
   "source": [
    "**Expected output**:\n",
    "```\n",
    "9.333333333333334\n",
    "3.197221015541813\n",
    "```"
   ]
  }
 ],
 "metadata": {
  "kernelspec": {
   "display_name": "Python 3",
   "language": "python",
   "name": "python3"
  },
  "language_info": {
   "codemirror_mode": {
    "name": "ipython",
    "version": 3
   },
   "file_extension": ".py",
   "mimetype": "text/x-python",
   "name": "python",
   "nbconvert_exporter": "python",
   "pygments_lexer": "ipython3",
   "version": "3.7.5"
  }
 },
 "nbformat": 4,
 "nbformat_minor": 2
}
