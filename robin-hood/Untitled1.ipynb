{
 "cells": [
  {
   "cell_type": "code",
   "execution_count": 1,
   "metadata": {},
   "outputs": [],
   "source": [
    "\n",
    "points = [(4, 5), (-0, 2), (4, 7), (1, -3), (3, -2), (4, 5),\n",
    "          (3, 2), (5, 7), (-5, 7), (2, 2), (-4, 5), (0, -2),\n",
    "          (-4, 7), (-1, 3), (-3, 2), (-4, -5), (-3, 2),\n",
    "          (5, 7), (5, 7), (2, 2), (9, 9), (-8, -9)]\n"
   ]
  },
  {
   "cell_type": "code",
   "execution_count": 2,
   "metadata": {},
   "outputs": [
    {
     "name": "stdout",
     "output_type": "stream",
     "text": [
      "True\n"
     ]
    }
   ],
   "source": [
    "repeated = {}\n",
    "for item in points:\n",
    "    if item in repeated:\n",
    "        repeated[item]+= 1\n",
    "    else:\n",
    "        repeated[item]= 1\n",
    "hit_arrow = False\n",
    "for key in repeated:\n",
    "    if repeated[key] >= 2:\n",
    "        hit_arrow = True\n",
    "        break\n",
    "if hit_arrow == True:\n",
    "    print (hit_arrow)\n",
    "\n"
   ]
  },
  {
   "cell_type": "code",
   "execution_count": 16,
   "metadata": {},
   "outputs": [
    {
     "name": "stdout",
     "output_type": "stream",
     "text": [
      "{'q1': 10, 'q2': 6, 'q3': 2, 'q4': 2}\n",
      "[10, 6, 2, 2]\n"
     ]
    }
   ],
   "source": [
    "quadrants= {'q1':0, 'q2':0, 'q3':0, 'q4':0,}\n",
    "for item in points:\n",
    "    if item[0]>0 and item[1]>0:\n",
    "        \n",
    "        quadrants['q1']+= 1\n",
    "    elif item[0]>0 and item[1]<0:\n",
    "        quadrants['q4']+= 1\n",
    "    elif item[0]<0 and item[1]>0:\n",
    "        quadrants['q2']+= 1\n",
    "    elif item[0]<0 and item[1]<0:\n",
    "        quadrants['q3']+= 1\n",
    "print (quadrants)\n",
    "qlist=[]\n",
    "for key in quadrants:\n",
    "    dato= quadrants[key]\n",
    "    qlist.append(dato)\n",
    "print (qlist)"
   ]
  },
  {
   "cell_type": "code",
   "execution_count": 24,
   "metadata": {},
   "outputs": [
    {
     "name": "stdout",
     "output_type": "stream",
     "text": [
      "[(1, -3), (3, -2), (-5, 7), (-4, 5), (0, -2), (-4, 7), (-1, 3), (-3, 2), (-4, -5), (-3, 2), (-8, -9)]\n",
      "[[1, -3], [3, -2], [-5, 7], [-4, 5], [0, -2], [-4, 7], [-1, 3], [-3, 2], [-4, -5], [-3, 2], [-8, -9]]\n"
     ]
    }
   ],
   "source": [
    "negativos =[]\n",
    "for i in range(len(points)):\n",
    "    if points[i][0] < 0 or points[i][1]<0:\n",
    "        negativos.append(points[i])\n",
    "print (negativos)\n",
    "\n",
    "posi=[]\n",
    "for item in negativos:\n",
    "    pos= list(item)\n",
    "    posi.append(pos)\n",
    "for item in posi:\n",
    "    for i in item:\n",
    "        if i <\n"
   ]
  },
  {
   "cell_type": "code",
   "execution_count": null,
   "metadata": {},
   "outputs": [],
   "source": []
  }
 ],
 "metadata": {
  "kernelspec": {
   "display_name": "Python 3",
   "language": "python",
   "name": "python3"
  },
  "language_info": {
   "codemirror_mode": {
    "name": "ipython",
    "version": 3
   },
   "file_extension": ".py",
   "mimetype": "text/x-python",
   "name": "python",
   "nbconvert_exporter": "python",
   "pygments_lexer": "ipython3",
   "version": "3.7.4"
  }
 },
 "nbformat": 4,
 "nbformat_minor": 2
}
