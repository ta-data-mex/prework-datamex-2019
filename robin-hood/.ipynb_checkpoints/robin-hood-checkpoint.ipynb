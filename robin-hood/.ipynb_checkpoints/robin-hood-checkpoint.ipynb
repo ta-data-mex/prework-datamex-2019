{
 "cells": [
  {
   "cell_type": "markdown",
   "metadata": {},
   "source": [
    "# Robin Hood\n",
    "## Intro\n",
    "We are in a competition to win the archery contest in Sherwood. With our bow and arrows we shoot on a target and try to hit as close as possible to the center.\n",
    "\n",
    "The center of the target is represented by the values (0, 0) on the coordinate axes.\n",
    "\n",
    "![](images/arrows.jpg)\n",
    "\n",
    "## Goals:\n",
    "* data structures: lists, sets, tuples\n",
    "* logical operators: if-elif-else\n",
    "* loop: while/for\n",
    "* minimum (optional sorting)\n",
    "\n",
    "## Description:\n",
    "In the 2-dimensional space, a point can be defined by a pair of values that correspond to the horizontal coordinate (x) and the vertical coordinate (y). The space can be divided into 4 zones (quadrants): Q1, Q2, Q3, Q4. Whose single point of union is the point (0, 0).\n",
    "\n",
    "If a point is in Q1 both its x coordinate and the y are positive. I leave a link to wikipedia to familiarize yourself with these quadrants.\n",
    "\n",
    "https://en.wikipedia.org/wiki/Cartesian_coordinate_system\n",
    "\n",
    "https://en.wikipedia.org/wiki/Euclidean_distance\n",
    "\n",
    "## Shots\n",
    "```\n",
    "points = [(4, 5), (-0, 2), (4, 7), (1, -3), (3, -2), (4, 5),\n",
    "          (3, 2), (5, 7), (-5, 7), (2, 2), (-4, 5), (0, -2),\n",
    "          (-4, 7), (-1, 3), (-3, 2), (-4, -5), (-3, 2),\n",
    "          (5, 7), (5, 7), (2, 2), (9, 9), (-8, -9)]\n",
    "```\n",
    "\n",
    "## Tasks\n",
    "1. Robin Hood is famous for hitting an arrow with another arrow. Did you get it?\n",
    "2. Calculate how many arrows have fallen in each quadrant.\n",
    "3. Find the point closest to the center. Calculate its distance to the center. \n",
    "4. If the target has a radius of 9, calculate the number of arrows that must be picked up in the forest."
   ]
  },
  {
   "cell_type": "code",
   "execution_count": 1,
   "metadata": {},
   "outputs": [],
   "source": [
    "# Variables\n",
    "\n",
    "points = [(4, 5), (-0, 2), (4, 7), (1, -3), (3, -2), (4, 5),\n",
    "          (3, 2), (5, 7), (-5, 7), (2, 2), (-4, 5), (0, -2),\n",
    "          (-4, 7), (-1, 3), (-3, 2), (-4, -5), (-3, 2),\n",
    "          (5, 7), (5, 7), (2, 2), (9, 9), (-8, -9)]"
   ]
  },
  {
   "cell_type": "code",
   "execution_count": 2,
   "metadata": {},
   "outputs": [
    {
     "name": "stdout",
     "output_type": "stream",
     "text": [
      "True\n"
     ]
    }
   ],
   "source": [
    "# 1. Robin Hood is famous for hitting an arrow with another arrow. Did you get it?\n",
    "# See: https://www.geeksforgeeks.org/python-program-to-count-duplicates-in-a-list-of-tuples/\n",
    "def count(listOfTuple): \n",
    "      \n",
    "    count_map = {} \n",
    "    for i in listOfTuple: \n",
    "        count_map[i] = count_map.get(i, 0) +1\n",
    "    return(count_map)\n",
    "counts = count(points)\n",
    "\n",
    "# Use dict comprehension to iterate through list selecting items greater than 1\n",
    "multiples = {key: value for key, value in counts.items() if value > 1}\n",
    "\n",
    "if multiples:\n",
    "    print(True)"
   ]
  },
  {
   "cell_type": "markdown",
   "metadata": {},
   "source": [
    "**Expected output**:\n",
    "```\n",
    "True\n",
    "```"
   ]
  },
  {
   "cell_type": "code",
   "execution_count": 12,
   "metadata": {},
   "outputs": [
    {
     "name": "stdout",
     "output_type": "stream",
     "text": [
      "(10, 6, 2, 2)\n"
     ]
    }
   ],
   "source": [
    "# 2. Calculate how many arrows have fallen in each quadrant.\n",
    "oneCount = 0\n",
    "twoCount = 0\n",
    "threeCount = 0\n",
    "fourCount = 0\n",
    "\n",
    "\n",
    "for point in points:\n",
    "    \n",
    "    # For point(a,b) if either a or b is zero the point isint in any cuadrant\n",
    "    if (point[0] != 0 and point[1] != 0):\n",
    "    \n",
    "        # Create truthy variables where trus is positive\n",
    "        # and false is negative corresponding to the points (a, b)\n",
    "        if point[0] > 0:\n",
    "            a = True\n",
    "        elif point[0] < 0:\n",
    "            a = False\n",
    "\n",
    "        if point[1] > 0:\n",
    "            b = True\n",
    "        elif point[1] < 0:\n",
    "            b = False\n",
    "\n",
    "        # Test for each quadrant incrementing the count\n",
    "        if (a and b):\n",
    "            oneCount +=1\n",
    "        elif (a and not b):\n",
    "            fourCount +=1\n",
    "        elif (not a and b):\n",
    "            twoCount +=1\n",
    "        elif (not a and not b):\n",
    "            threeCount +=1\n",
    "print((oneCount, twoCount, threeCount, fourCount))"
   ]
  },
  {
   "cell_type": "markdown",
   "metadata": {},
   "source": [
    "**Expected output**:\n",
    "```\n",
    "(10, 6, 2, 2)\n",
    "```"
   ]
  },
  {
   "cell_type": "code",
   "execution_count": 15,
   "metadata": {},
   "outputs": [
    {
     "name": "stdout",
     "output_type": "stream",
     "text": [
      "(0, 2)\n",
      "2.0\n"
     ]
    }
   ],
   "source": [
    "# 3. Find the point closest to the center. Calculate its distance to the center\n",
    "# Defining a function that calculates the distance to the center can help.\n",
    "\n",
    "# We have to use distance formula, I found a good example here\n",
    "# https://www.w3resource.com/python-exercises/python-basic-exercise-40.php\n",
    "\n",
    "import math\n",
    "# Define the origin\n",
    "origin = [0, 0]\n",
    "\n",
    "# Create an empty dictionary whose keys are the tuple of pointes, and values are distances\n",
    "distances = {}\n",
    "\n",
    "for point in points:\n",
    "    # Calculate the distance from the origin of each point\n",
    "    distance = math.sqrt( ((origin[0]-point[0])**2)+((origin[1]-point[1])**2) )\n",
    "    distances[point] = distance\n",
    "\n",
    "# Find the lowest point in the dictionary\n",
    "# https://stackoverflow.com/a/3282904/5420796\n",
    "closestPoint = min(distances, key=distances.get)\n",
    "\n",
    "# Print the lowest point\n",
    "print(closestPoint)\n",
    "\n",
    "# Print the lowest point's corresponding distance\n",
    "print(distances[closestPoint])"
   ]
  },
  {
   "cell_type": "markdown",
   "metadata": {},
   "source": [
    "**Expected output**:\n",
    "```\n",
    "(0, 2)\n",
    "2.0\n",
    "```"
   ]
  },
  {
   "cell_type": "code",
   "execution_count": 20,
   "metadata": {},
   "outputs": [
    {
     "name": "stdout",
     "output_type": "stream",
     "text": [
      "[(9, 9), (-8, -9)]\n",
      "2\n"
     ]
    }
   ],
   "source": [
    "# 4. If the target has a radius of 9, calculate the number of arrows that \n",
    "# must be picked up in the forest.\n",
    "\n",
    "# Just make sure to use absolute value\n",
    "\n",
    "pointsNine = [point for point in points if abs(point[0]) >= 9 or abs(point[1]) >= 9]\n",
    "print(pointsNine)\n",
    "print(len(pointsNine))"
   ]
  },
  {
   "cell_type": "markdown",
   "metadata": {},
   "source": [
    "**Expected output**:\n",
    "```\n",
    "[(9, 9), (-8, -9)]\n",
    "2\n",
    "```"
   ]
  },
  {
   "cell_type": "code",
   "execution_count": null,
   "metadata": {},
   "outputs": [],
   "source": []
  }
 ],
 "metadata": {
  "kernelspec": {
   "display_name": "Python 3",
   "language": "python",
   "name": "python3"
  },
  "language_info": {
   "codemirror_mode": {
    "name": "ipython",
    "version": 3
   },
   "file_extension": ".py",
   "mimetype": "text/x-python",
   "name": "python",
   "nbconvert_exporter": "python",
   "pygments_lexer": "ipython3",
   "version": "3.6.0"
  }
 },
 "nbformat": 4,
 "nbformat_minor": 2
}
