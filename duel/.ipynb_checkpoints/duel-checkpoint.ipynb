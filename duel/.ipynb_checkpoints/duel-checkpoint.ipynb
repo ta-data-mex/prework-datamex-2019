{
 "cells": [
  {
   "cell_type": "markdown",
   "metadata": {},
   "source": [
    "# Duel of sorcerers\n",
    "## Intro\n",
    "You are witnessing an epic battle between two powerful sorcerers: Gandalf and Saruman. Each sorcerer has 10 spells of variable power in their mind and they are going to throw them one after the other. The winner of the duel will be the one who wins more of those clashes between spells. Spells are represented as a list of 10 integers whose value equals the power of the spell.\n",
    "```\n",
    "gandalf = [10, 11, 13, 30, 22, 11, 10, 33, 22, 22]\n",
    "saruman = [23, 66, 12, 43, 12, 10, 44, 23, 12, 17]\n",
    "```\n",
    "For example:\n",
    "1. The first clash is won by Saruman: 10 against 23, wins 23\n",
    "2. The second clash wins Saruman: 11 against 66, wins 66\n",
    "3. etc.\n",
    "\n",
    "\n",
    "You will create two variables, one for each sorcerer, where the sum of clashes won will be stored. Depending on which variable is greater at the end of the duel, you will show one of the following three results on the screen:\n",
    "* Gandalf wins\n",
    "* Saruman wins\n",
    "* Tie\n",
    "\n",
    "<img src=\"images/content_lightning_bolt_big.jpg\" width=\"400\">\n",
    "\n",
    "## LINKS: \n",
    "* zip: https://www.programiz.com/python-programming/methods/built-in/zip"
   ]
  },
  {
   "cell_type": "markdown",
   "metadata": {},
   "source": [
    "## Solution"
   ]
  },
  {
   "cell_type": "code",
   "execution_count": 1,
   "metadata": {},
   "outputs": [],
   "source": [
    "# Assign spell power lists to variables\n",
    "gandalf = [10, 11, 13, 30, 22, 11, 10, 33, 22, 22]\n",
    "saruman = [23, 66, 12, 43, 12, 10, 44, 23, 12, 17]"
   ]
  },
  {
   "cell_type": "code",
   "execution_count": 2,
   "metadata": {},
   "outputs": [],
   "source": [
    "# Assign 0 to each variable that stores the victories\n",
    "Gandalg_W = 0\n",
    "Saruman_W = 0"
   ]
  },
  {
   "cell_type": "code",
   "execution_count": 3,
   "metadata": {},
   "outputs": [
    {
     "name": "stdout",
     "output_type": "stream",
     "text": [
      "Gana Saruman\n",
      "Gana Saruman\n",
      "Gana Gandalf\n",
      "Gana Saruman\n",
      "Gana Gandalf\n",
      "Gana Gandalf\n",
      "Gana Saruman\n",
      "Gana Gandalf\n",
      "Gana Gandalf\n",
      "Gana Gandalf\n",
      "Gandalf gano: 6\n",
      "Saruman gano: 4\n"
     ]
    }
   ],
   "source": [
    "# Execution of spell clashes\n",
    "#Hice un codigo para que se puedan sumar si quieren mas duelos en las listas de arriba, si hay un duelo con solo un dato el programa marcara error :D\n",
    "duelos = (len(gandalf) + len(saruman)) / 2\n",
    "i = 0\n",
    "for x in range (int(duelos)):\n",
    "    if gandalf[i] > saruman[i]:\n",
    "        print(\"Gana Gandalf\")\n",
    "        i +=1\n",
    "        Gandalg_W +=1\n",
    "    elif gandalf[i] == saruman [i]:\n",
    "        print(\"Empate\")\n",
    "        i += 1\n",
    "    elif gandalf[i] < saruman[i]:\n",
    "        print(\"Gana Saruman\")\n",
    "        i += 1\n",
    "        Saruman_W +=1\n",
    "    else:\n",
    "        print(\"Error\")\n",
    "\n",
    "print(\"Gandalf gano:\",Gandalg_W)\n",
    "print(\"Saruman gano:\",Saruman_W)"
   ]
  },
  {
   "cell_type": "markdown",
   "metadata": {},
   "source": [
    "**Expected output**:\n",
    "```\n",
    "6\n",
    "4\n",
    "```"
   ]
  },
  {
   "cell_type": "code",
   "execution_count": 4,
   "metadata": {},
   "outputs": [],
   "source": [
    "# We check who has won, do not forget the possibility of a draw.\n",
    "# Print the result based on the winner.\n",
    "# Esto lo resuelvo en el anterior, igual tiene la opcion de empate "
   ]
  },
  {
   "cell_type": "markdown",
   "metadata": {},
   "source": [
    "**Expected output**:\n",
    "```\n",
    "Gandalf wins\n",
    "```"
   ]
  },
  {
   "cell_type": "markdown",
   "metadata": {},
   "source": [
    "## Goals\n",
    "\n",
    "1. Treatment of lists\n",
    "2. Use of **for loop**\n",
    "3. Use of conditional **if-elif-else**\n",
    "4. Use of the functions **range(), len()**\n",
    "5. print()\n",
    "6. zip()"
   ]
  },
  {
   "cell_type": "markdown",
   "metadata": {},
   "source": [
    "## Bonus\n",
    "\n",
    "1. Spells now have a name and there is a dictionary that relates that name to a power.\n",
    "2. A sorcerer wins if he succeeds in winning 3 spell clashes in a row.\n",
    "3. Average of each of the spell lists.\n",
    "4. Standard deviation of each of the spell lists.\n",
    "\n",
    "```\n",
    "POWER = {\n",
    "    'Fireball': 50, \n",
    "    'Lightning bolt': 40, \n",
    "    'Magic arrow': 10, \n",
    "    'Black Tentacles': 25, \n",
    "    'Contagion': 45\n",
    "}\n",
    "\n",
    "gandalf = ['Fireball', 'Lightning bolt', 'Lightning bolt', 'Magic arrow', 'Fireball', \n",
    "           'Magic arrow', 'Lightning bolt', 'Fireball', 'Fireball', 'Fireball']\n",
    "saruman = ['Contagion', 'Contagion', 'Black Tentacles', 'Fireball', 'Black Tentacles', \n",
    "           'Lightning bolt', 'Magic arrow', 'Contagion', 'Magic arrow', 'Magic arrow']\n",
    "```\n",
    "\n",
    "Good luck!"
   ]
  },
  {
   "cell_type": "code",
   "execution_count": 9,
   "metadata": {},
   "outputs": [],
   "source": [
    "# 1. Spells now have a name and there is a dictionary that relates that name to a power.\n",
    "# variables\n",
    "\n",
    "POWER = {\n",
    "    'Fireball': 50, \n",
    "    'Lightning bolt': 40, \n",
    "    'Magic arrow': 10, \n",
    "    'Black Tentacles': 25, \n",
    "    'Contagion': 45\n",
    "}\n",
    "\n",
    "gandalf1 = ['Fireball', 'Lightning bolt', 'Lightning bolt', 'Magic arrow', 'Fireball', \n",
    "           'Magic arrow', 'Lightning bolt', 'Fireball', 'Magic arrow', 'Fireball']\n",
    "saruman1 = ['Contagion', 'Contagion', 'Black Tentacles', 'Fireball', 'Black Tentacles', \n",
    "           'Lightning bolt', 'Magic arrow', 'Contagion', 'Magic arrow', 'Magic arrow']"
   ]
  },
  {
   "cell_type": "code",
   "execution_count": 10,
   "metadata": {},
   "outputs": [
    {
     "name": "stdout",
     "output_type": "stream",
     "text": [
      "[50, 40, 40, 10, 50, 10, 40, 50, 10, 50]\n",
      "[45, 45, 25, 50, 25, 40, 10, 45, 10, 10]\n"
     ]
    }
   ],
   "source": [
    "# Assign spell power lists to variables\n",
    "Gandalf_P =[]\n",
    "p= 0\n",
    "for x in gandalf1:\n",
    "    if gandalf1[p] in POWER:\n",
    "        valor= POWER.get(gandalf1[p])\n",
    "        Gandalf_P.append(valor)\n",
    "        p += 1\n",
    "\n",
    "Saruman_P =[]\n",
    "q= 0\n",
    "for x in saruman1:\n",
    "    if saruman1[q] in POWER:\n",
    "        valor= POWER.get(saruman1[q])\n",
    "        Saruman_P.append(valor)\n",
    "        q += 1\n",
    "\n",
    "print(Gandalf_P)\n",
    "print(Saruman_P)"
   ]
  },
  {
   "cell_type": "markdown",
   "metadata": {},
   "source": [
    "**Expected output**:\n",
    "```\n",
    "([50, 40, 40, 10, 50, 10, 40, 50, 10, 50],\n",
    " [45, 45, 25, 50, 25, 40, 10, 45, 10, 10])\n",
    " ```"
   ]
  },
  {
   "cell_type": "code",
   "execution_count": 11,
   "metadata": {},
   "outputs": [
    {
     "name": "stdout",
     "output_type": "stream",
     "text": [
      "Gana Gandalf\n"
     ]
    }
   ],
   "source": [
    "# 2. A sorcerer wins if he succeeds in winning 3 spell clashes in a row.\n",
    "# Para que solo se ganara con 3 victorias al hilo, cree la variable par_a, se puede modificar si se requiere que gane dos al hilo, lo que hace el programa es que cuando alguien gana, la variable del contrincante se resetea a 0, asi solo pudiendo ganar si son victorias consecutivas\n",
    "par_a = 3\n",
    "Counter_G = 0\n",
    "Counter_S = 0\n",
    "w = 0\n",
    "\n",
    "while Counter_G < 10:\n",
    "    if Gandalf_P[w] > Saruman_P[w]:\n",
    "        w += 1\n",
    "        Counter_G += 1\n",
    "        Counter_S = 0\n",
    "        if Counter_S == par_a:\n",
    "            break\n",
    "        if Counter_G == par_a:\n",
    "            break\n",
    "    elif Gandalf_P[w] == Saruman_P[w]:\n",
    "        w += 1\n",
    "    elif Gandalf_P[w] < Saruman_P[w]:\n",
    "        w += 1\n",
    "        Counter_S += 1\n",
    "        Counter_G = 0\n",
    "        if Counter_S == par_a:\n",
    "            break\n",
    "        if Counter_G == par_a:\n",
    "            break\n",
    "    else:\n",
    "        print(\"Error\")\n",
    "else:\n",
    "    print(\"Error\")\n",
    "\n",
    "if Counter_G == par_a:\n",
    "    print(\"Gana Gandalf\")\n",
    "if Counter_S == par_a:\n",
    "    print(\"Ganda Saruman\")\n",
    "\n",
    "\n",
    "# Execution of spell clashes\n",
    "\n",
    "# check clashes\n",
    "\n",
    "# check for 3 wins in a row\n",
    "\n",
    "# check the winner\n",
    "\n",
    "# count sum of clashes\n"
   ]
  },
  {
   "cell_type": "markdown",
   "metadata": {},
   "source": [
    "**Expected output**:\n",
    "```\n",
    "Gandalf wins\n",
    "```"
   ]
  },
  {
   "cell_type": "code",
   "execution_count": 12,
   "metadata": {},
   "outputs": [
    {
     "name": "stdout",
     "output_type": "stream",
     "text": [
      "El promedio de ataque de Gandalf es: 35.0\n",
      "El promedio de ataque de Saruma es: 30.5\n"
     ]
    }
   ],
   "source": [
    "# 3. Average of each of the spell lists.\n",
    "Prom_Gan = sum(Gandalf_P)/len(gandalf1)\n",
    "print(\"El promedio de ataque de Gandalf es:\", Prom_Gan)\n",
    "Prom_Sar = sum(Saruman_P)/len(saruman1)\n",
    "print(\"El promedio de ataque de Saruma es:\", Prom_Sar)"
   ]
  },
  {
   "cell_type": "markdown",
   "metadata": {},
   "source": [
    "**Expected output**:\n",
    "```\n",
    "35.0\n",
    "30.5\n",
    "```"
   ]
  },
  {
   "cell_type": "code",
   "execution_count": 13,
   "metadata": {},
   "outputs": [
    {
     "name": "stdout",
     "output_type": "stream",
     "text": [
      "La desviacion estandar de Gandalf es: 16.881943016134134\n",
      "La desviacion estandar de Saruman es: 15.56438241627338\n"
     ]
    }
   ],
   "source": [
    "# 4. Standard deviation of each of the spell lists.\n",
    "cuadra2 = []\n",
    "for u in Gandalf_P:\n",
    "    cuadrado = (u-Prom_Gan)**2\n",
    "    cuadra2.append(cuadrado)\n",
    "print(\"La desviacion estandar de Gandalf es:\" ,(sum(cuadra2)/len(gandalf1))**.5)\n",
    "\n",
    "cuadra3 = []\n",
    "for u in Saruman_P:\n",
    "    cuadrado1 = (u-Prom_Sar)**2\n",
    "    cuadra3.append(cuadrado1)\n",
    "print(\"La desviacion estandar de Saruman es:\" ,(sum(cuadra3)/len(saruman1))**.5)"
   ]
  },
  {
   "cell_type": "markdown",
   "metadata": {},
   "source": [
    "**Expected output**:\n",
    "```\n",
    "16.881943016134134\n",
    "15.56438241627338\n",
    "```"
   ]
  },
  {
   "cell_type": "code",
   "execution_count": null,
   "metadata": {},
   "outputs": [],
   "source": [
    "# Igual probe cambiando los valores de los hechizos y arreglando todo para que saruman ganara y funciono :) "
   ]
  }
 ],
 "metadata": {
  "kernelspec": {
   "display_name": "Python 3",
   "language": "python",
   "name": "python3"
  },
  "language_info": {
   "codemirror_mode": {
    "name": "ipython",
    "version": 3
   },
   "file_extension": ".py",
   "mimetype": "text/x-python",
   "name": "python",
   "nbconvert_exporter": "python",
   "pygments_lexer": "ipython3",
   "version": "3.7.3"
  }
 },
 "nbformat": 4,
 "nbformat_minor": 2
}
