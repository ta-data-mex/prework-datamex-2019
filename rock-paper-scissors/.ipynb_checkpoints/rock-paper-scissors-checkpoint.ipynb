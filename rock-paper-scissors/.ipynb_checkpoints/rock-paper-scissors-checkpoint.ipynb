{
 "cells": [
  {
   "cell_type": "markdown",
   "metadata": {},
   "source": [
    "# Rock Paper Scissors\n",
    "\n",
    "Let's play the famous game against our computer.\n",
    "\n",
    "https://en.wikipedia.org/wiki/Rock%E2%80%93paper%E2%80%93scissors\n",
    "\n",
    "The use of functions is recommended\n",
    "\n",
    "## Goals\n",
    "1. Use of loop\n",
    "2. Data capture by console\n",
    "3. Use if-elif-else\n",
    "4. Use of try-except\n",
    "5. Definition of functions. Modular programming\n",
    "6. Logical operators.\n",
    "7. Print\n",
    "8. Import modules"
   ]
  },
  {
   "cell_type": "code",
   "execution_count": 20,
   "metadata": {
    "scrolled": true
   },
   "outputs": [
    {
     "name": "stdout",
     "output_type": "stream",
     "text": [
      "Choose stone, paper or scissors: stoen\n",
      "Sorry we can't play, choose again\n",
      "The machine chose: scissors the player chose None it's a tie\n"
     ]
    }
   ],
   "source": [
    "# Import the choice function of the random module\n",
    "# https://stackoverflow.com/questions/306400/how-to-randomly-select-an-item-from-a-list\n",
    "import random\n",
    "# Assign to a list the 3 possible options: 'stone', 'paper' or 'scissors'.\n",
    "options = ['stone', 'paper', 'scissors']\n",
    "# Assign a variable to the maximum number of games: 1, 3, 5, etc ...\n",
    "max_games = 3\n",
    "# Assign a variable to the number of games a player must win to win.\n",
    "# Preferably the value will be based on the number of maximum games\n",
    "max_win = 2\n",
    "# Define a function that randomly returns one of the 3 options.\n",
    "# This will correspond to the play of the machine. Totally random.\n",
    "def machine_choice():\n",
    "    machine_c = random.choice(options)\n",
    "    return machine_c\n",
    "# Define a function that asks your choice: 'stone', 'paper' or 'scissors'\n",
    "def player_choice():\n",
    "    machine_choice()\n",
    "    player_c = input(\"Choose stone, paper or scissors: \")\n",
    "# you should only allow one of the 3 options. This is defensive programming.\n",
    "# If it is not stone, paper or scissors keep asking until it is.\n",
    "    if player_c == \"stone\":\n",
    "        print(\"Let's play!\")\n",
    "    elif player_c == \"paper\":\n",
    "        print(\"Let's play!\")\n",
    "    elif player_c == \"scissors\":\n",
    "        print(\"Let's play!\")\n",
    "    else:\n",
    "        print(\"Sorry we can't play, choose again\")\n",
    "        return player_c\n",
    "# Define a function that resolves a combat.\n",
    "# Returns 0 if there is a tie, 1 if the machine wins, 2 if the human player wins\n",
    "if machine_choice() == player_choice():\n",
    "        x = 0\n",
    "elif (machine_c == \"stone\") & (player_c == \"scissors\"):\n",
    "        x = 1\n",
    "elif (machine_c == \"stone\") & (player_c == \"paper\"):\n",
    "        x = 2\n",
    "elif (machine_c == \"paper\") & (player_c == \"stone\"):\n",
    "        x = 1\n",
    "elif (machine_c == \"paper\") & (player_c == \"scissors\"):\n",
    "        x = 2\n",
    "elif (machine_c == \"scissors\") & (player_c == \"paper\"):\n",
    "        x = 1\n",
    "elif (machine_c == \"scissors\") & (player_c == \"stone\"):\n",
    "        x = 2\n",
    "# Define a function that shows the choice of each player and the state of the game\n",
    "# This function should be used every time accumulated points are updated\n",
    "y = x\n",
    "\n",
    "if x == 0:\n",
    "        print(\"The machine chose:\", machine_c, \"the player chose\", player_c, \"it's a tie\")\n",
    "elif x == 1:\n",
    "        print(\"The machine chose:\", machine_c, \"the player chose\", player_c, \"Machine won\")\n",
    "elif x == 2:\n",
    "        print(\"The machine chose:\", machine_c, \"the player chose\", player_c, \"Player won\")\n",
    "    \n",
    "# Create two variables that accumulate the wins of each participant\n",
    "machine_w = 0\n",
    "player_w = 0\n",
    "# Create a loop that iterates while no player reaches the minimum of wins\n",
    "# necessary to win. Inside the loop solves the play of the\n",
    "# machine and ask the player's. Compare them and update the value of the variables\n",
    "# that accumulate the wins of each participant.\n",
    "\n",
    "\n",
    "    \n"
   ]
  },
  {
   "cell_type": "code",
   "execution_count": 73,
   "metadata": {},
   "outputs": [
    {
     "ename": "TypeError",
     "evalue": "combat() takes 0 positional arguments but 1 was given",
     "output_type": "error",
     "traceback": [
      "\u001b[0;31m---------------------------------------------------------------------------\u001b[0m",
      "\u001b[0;31mTypeError\u001b[0m                                 Traceback (most recent call last)",
      "\u001b[0;32m<ipython-input-73-9d3ae5afd8ac>\u001b[0m in \u001b[0;36m<module>\u001b[0;34m\u001b[0m\n\u001b[1;32m     52\u001b[0m         \u001b[0;32mreturn\u001b[0m \u001b[0;36m2\u001b[0m\u001b[0;34m\u001b[0m\u001b[0;34m\u001b[0m\u001b[0m\n\u001b[1;32m     53\u001b[0m \u001b[0;34m\u001b[0m\u001b[0m\n\u001b[0;32m---> 54\u001b[0;31m \u001b[0;32mif\u001b[0m \u001b[0mcombat\u001b[0m\u001b[0;34m(\u001b[0m\u001b[0;36m0\u001b[0m\u001b[0;34m)\u001b[0m \u001b[0;34m==\u001b[0m \u001b[0;36m0\u001b[0m\u001b[0;34m:\u001b[0m\u001b[0;34m\u001b[0m\u001b[0;34m\u001b[0m\u001b[0m\n\u001b[0m\u001b[1;32m     55\u001b[0m         \u001b[0mprint\u001b[0m\u001b[0;34m(\u001b[0m\u001b[0;34m\"The machine chose:\"\u001b[0m\u001b[0;34m,\u001b[0m \u001b[0mmachine_c\u001b[0m\u001b[0;34m,\u001b[0m \u001b[0;34m\"the player chose\"\u001b[0m\u001b[0;34m,\u001b[0m \u001b[0mplayer_c\u001b[0m\u001b[0;34m,\u001b[0m \u001b[0;34m\"it's a tie\"\u001b[0m\u001b[0;34m)\u001b[0m\u001b[0;34m\u001b[0m\u001b[0;34m\u001b[0m\u001b[0m\n\u001b[1;32m     56\u001b[0m \u001b[0;32melif\u001b[0m \u001b[0mx\u001b[0m \u001b[0;34m==\u001b[0m \u001b[0;36m1\u001b[0m\u001b[0;34m:\u001b[0m\u001b[0;34m\u001b[0m\u001b[0;34m\u001b[0m\u001b[0m\n",
      "\u001b[0;31mTypeError\u001b[0m: combat() takes 0 positional arguments but 1 was given"
     ]
    }
   ],
   "source": [
    "# Import the choice function of the random module\n",
    "# https://stackoverflow.com/questions/306400/how-to-randomly-select-an-item-from-a-list\n",
    "import random\n",
    "# Assign to a list the 3 possible options: 'stone', 'paper' or 'scissors'.\n",
    "options = ['stone', 'paper', 'scissors']\n",
    "# Assign a variable to the maximum number of games: 1, 3, 5, etc ...\n",
    "max_games = 3\n",
    "# Assign a variable to the number of games a player must win to win.\n",
    "# Preferably the value will be based on the number of maximum games\n",
    "max_win = 2\n",
    "# Define a function that randomly returns one of the 3 options.\n",
    "# This will correspond to the play of the machine. Totally random.\n",
    "def machine_choice():\n",
    "    machine_c = random.choice(options)\n",
    "    return machine_c\n",
    "# Define a function that asks your choice: 'stone', 'paper' or 'scissors'\n",
    "def player_choice():\n",
    "    machine_choice()\n",
    "    global player_c\n",
    "    player_c = input(\"Choose stone, paper or scissors: \")\n",
    "    print(player_c)\n",
    "# you should only allow one of the 3 options. This is defensive programming.\n",
    "# If it is not stone, paper or scissors keep asking until it is.\n",
    "    if player_c == \"stone\":\n",
    "        return player_c\n",
    "    elif player_c == \"paper\":\n",
    "        return player_c\n",
    "    elif player_c == \"scissors\":\n",
    "        return player_c\n",
    "    else:\n",
    "        print(\"Sorry we can't play, choose again\")\n",
    "        player_choice()\n",
    "    \n",
    "# Define a function that resolves a combat.\n",
    "# Returns 0 if there is a tie, 1 if the machine wins, 2 if the human player wins\n",
    "def combat():\n",
    "    player_choice()\n",
    "    print(machine_c)\n",
    "    if machine_c == player_c:\n",
    "        return 0\n",
    "    elif (machine_c == \"stone\") & (player_c == \"scissors\"):\n",
    "        return 1\n",
    "    elif (machine_c == \"stone\") & (player_c == \"paper\"):\n",
    "        return 2\n",
    "    elif (machine_c == \"paper\") & (player_c == \"stone\"):\n",
    "        return 1\n",
    "    elif (machine_c == \"paper\") & (player_c == \"scissors\"):\n",
    "        return 2\n",
    "    elif (machine_c == \"scissors\") & (player_c == \"paper\"):\n",
    "        return 1\n",
    "    elif (machine_c == \"scissors\") & (player_c == \"stone\"):\n",
    "        return 2\n",
    "\n",
    "if combat(0) == 0:\n",
    "        print(\"The machine chose:\", machine_c, \"the player chose\", player_c, \"it's a tie\")\n",
    "elif x == 1:\n",
    "        print(\"The machine chose:\", machine_c, \"the player chose\", player_c, \"Machine won\")\n",
    "elif x == 2:\n",
    "        print(\"The machine chose:\", machine_c, \"the player chose\", player_c, \"Player won\")\n",
    "# Define a function that shows the choice of each player and the state of the game\n",
    "# This function should be used every time accumulated points are updated"
   ]
  },
  {
   "cell_type": "markdown",
   "metadata": {},
   "source": [
    "**Expected output**: Depends on the inputs, you know how to play and what to expect. "
   ]
  },
  {
   "cell_type": "markdown",
   "metadata": {},
   "source": [
    "# Bonus: Stone, paper, scissors, lizard, spock\n",
    "\n",
    "Now the improvement begins.\n",
    "\n",
    "![](images/rpsls.jpg)\n",
    "\n",
    "\n",
    "http://www.samkass.com/theories/RPSSL.html\n",
    "\n",
    "You are asked to impliment some improvements with respect to the simple previous game. In addition, the number of games (which must be ODD) will be requested per console until a valid number is entered.\n",
    "\n",
    "Improvements:\n",
    "* 5 options: stone, paper, scissors, lizard, spock\n",
    "* The number of games is requested per console\n",
    "Tip: Reuse code that you already use. If you have programmed intelligently, the bonus are simple modifications to the original game."
   ]
  },
  {
   "cell_type": "code",
   "execution_count": null,
   "metadata": {},
   "outputs": [],
   "source": [
    "# Import the choice function of the random module\n",
    "\n",
    "\n",
    "# Define a function that asks for an odd number on the keyboard, until it is not valid\n",
    "# will keep asking\n",
    "\n",
    "\n",
    "# Assign a list of 5 possible options.\n",
    "\n",
    "\n",
    "# Assign a variable to the maximum number of games: 1, 3, 5, etc ...\n",
    "# This time the previously defined function is used\n",
    "\n",
    "\n",
    "# Assign a variable to the number of games a player must win to win.\n",
    "# Preferably the value will be based on the number of maximum games\n",
    "\n",
    "\n",
    "# Define a function that randomly returns one of the 5 options.\n",
    "# This will correspond to the play of the machine. Totally random.\n",
    "\n",
    "\n",
    "# Define a function that asks your choice between 5\n",
    "# you should only allow one of the 5 options. This is defensive programming.\n",
    "# If it is not valid, keep asking until it is valid.\n",
    "\n",
    "\n",
    "# Define a function that resolves a combat.\n",
    "# Returns 0 if there is a tie, 1 if the machine wins, 2 if the human player wins\n",
    "# Now there are more options\n",
    "\n",
    "\n",
    "    \n",
    "# Define a function that shows the choice of each player and the state of the game\n",
    "# This function should be used every time accumulated points are updated\n",
    "\n",
    "    \n",
    "# Create two variables that accumulate the wins of each participant\n",
    "\n",
    "\n",
    "# Create a loop that iterates while no player reaches the minimum of wins\n",
    "# necessary to win. Inside the loop solves the play of the\n",
    "# machine and ask the player's. Compare them and update the value of the variables\n",
    "# that accumulate the wins of each participant.\n",
    "    \n",
    "    \n",
    "# Print by console the winner of the game based on who has more accumulated wins\n",
    "\n"
   ]
  },
  {
   "cell_type": "markdown",
   "metadata": {},
   "source": [
    "**Expected output**: Depends on the inputs, you know how to play and what to expect. "
   ]
  },
  {
   "cell_type": "code",
   "execution_count": null,
   "metadata": {},
   "outputs": [],
   "source": []
  },
  {
   "cell_type": "code",
   "execution_count": null,
   "metadata": {},
   "outputs": [],
   "source": []
  },
  {
   "cell_type": "code",
   "execution_count": null,
   "metadata": {},
   "outputs": [],
   "source": []
  },
  {
   "cell_type": "code",
   "execution_count": null,
   "metadata": {},
   "outputs": [],
   "source": []
  },
  {
   "cell_type": "code",
   "execution_count": null,
   "metadata": {},
   "outputs": [],
   "source": []
  },
  {
   "cell_type": "code",
   "execution_count": null,
   "metadata": {},
   "outputs": [],
   "source": []
  },
  {
   "cell_type": "code",
   "execution_count": null,
   "metadata": {},
   "outputs": [],
   "source": []
  },
  {
   "cell_type": "code",
   "execution_count": null,
   "metadata": {},
   "outputs": [],
   "source": []
  },
  {
   "cell_type": "code",
   "execution_count": null,
   "metadata": {},
   "outputs": [],
   "source": []
  },
  {
   "cell_type": "code",
   "execution_count": null,
   "metadata": {},
   "outputs": [],
   "source": []
  },
  {
   "cell_type": "code",
   "execution_count": null,
   "metadata": {},
   "outputs": [],
   "source": []
  },
  {
   "cell_type": "code",
   "execution_count": null,
   "metadata": {},
   "outputs": [],
   "source": []
  }
 ],
 "metadata": {
  "kernelspec": {
   "display_name": "Python 3",
   "language": "python",
   "name": "python3"
  },
  "language_info": {
   "codemirror_mode": {
    "name": "ipython",
    "version": 3
   },
   "file_extension": ".py",
   "mimetype": "text/x-python",
   "name": "python",
   "nbconvert_exporter": "python",
   "pygments_lexer": "ipython3",
   "version": "3.7.3"
  }
 },
 "nbformat": 4,
 "nbformat_minor": 2
}
